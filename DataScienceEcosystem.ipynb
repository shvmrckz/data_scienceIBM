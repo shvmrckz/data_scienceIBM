{
 "cells": [
  {
   "cell_type": "markdown",
   "id": "c2aec2a4-ccf3-4850-afe6-d46b2184a263",
   "metadata": {
    "tags": []
   },
   "source": [
    "# Data Science Tools and Ecosystem"
   ]
  },
  {
   "cell_type": "markdown",
   "id": "36d02aad-a1f4-43a4-b294-f6cd2a42cc94",
   "metadata": {
    "tags": []
   },
   "source": [
    "# In this notebook, Data Science Tools and Ecosystem are summarized."
   ]
  },
  {
   "cell_type": "markdown",
   "id": "37ff40d7-8ba8-4e32-b2cd-986eca468190",
   "metadata": {
    "tags": []
   },
   "source": [
    "**Objectives:** this course can help in understanding all the necessary tools required for data science course so that the learner can familiarize with the tools before working on them \n",
    "\n",
    "# Item covered in this note book\n",
    "- List popular languages for Data Science\n",
    "- Common libraries used in data science\n",
    "- Data Science tools\n",
    "\n"
   ]
  },
  {
   "cell_type": "markdown",
   "id": "e4606916-abbb-4b3d-8652-ee8f6bd32c3c",
   "metadata": {
    "tags": []
   },
   "source": [
    "# Some of the popular languages that Data Scientists use are:\n",
    "1. python\n",
    "2. R\n",
    "3. SQL\n",
    "4. Julia\n",
    "5. java"
   ]
  },
  {
   "cell_type": "markdown",
   "id": "f251082d-324f-4b77-b536-ff2207dbc0a7",
   "metadata": {},
   "source": [
    "# Some of the commonly used libraries used by Data Scientists include:\n",
    "\n",
    "1. Numpy\n",
    "2. SciPy\n",
    "3. Pandas\n",
    "4. SciKit-Learn"
   ]
  },
  {
   "cell_type": "markdown",
   "id": "aecbe97d-6b42-4c27-8384-5b7477715d0d",
   "metadata": {},
   "source": [
    "# Data Science Tools\n",
    "| Data Science Tools |\n",
    "|--------------------|\n",
    "|    R Studio        |\n",
    "| Apache Spark       |\n",
    "|Tensor Flow         |\n"
   ]
  },
  {
   "cell_type": "markdown",
   "id": "a4806e5a-0d24-4d19-8a1c-616025b6a103",
   "metadata": {},
   "source": [
    "### Below are a few examples of evaluating arithmetic expressions in Python\n"
   ]
  },
  {
   "cell_type": "code",
   "execution_count": 7,
   "id": "3692363b-da4f-48ac-be74-56cc24e6e9bc",
   "metadata": {
    "tags": []
   },
   "outputs": [
    {
     "data": {
      "text/plain": [
       "17"
      ]
     },
     "execution_count": 7,
     "metadata": {},
     "output_type": "execute_result"
    }
   ],
   "source": [
    "#This a simple arithmetic expression to mutiply then add integers\n",
    "(3*4)+5"
   ]
  },
  {
   "cell_type": "code",
   "execution_count": 8,
   "id": "d13cd6e9-042b-4176-bc06-d3bc5c550e53",
   "metadata": {
    "tags": []
   },
   "outputs": [
    {
     "data": {
      "text/plain": [
       "3.3333333333333335"
      ]
     },
     "execution_count": 8,
     "metadata": {},
     "output_type": "execute_result"
    }
   ],
   "source": [
    "# this will convert 200 minutes to hours by diving by 60\n",
    "200/60\n"
   ]
  },
  {
   "cell_type": "markdown",
   "id": "96830a8e-4b76-4dfd-b3f5-7f179923f1a9",
   "metadata": {},
   "source": [
    "## Author\n",
    "   Shashank Sinha"
   ]
  },
  {
   "cell_type": "code",
   "execution_count": null,
   "id": "7cc11352-b00f-4b70-bf2a-dc98fddef2d5",
   "metadata": {},
   "outputs": [],
   "source": []
  }
 ],
 "metadata": {
  "kernelspec": {
   "display_name": "Python",
   "language": "python",
   "name": "conda-env-python-py"
  },
  "language_info": {
   "codemirror_mode": {
    "name": "ipython",
    "version": 3
   },
   "file_extension": ".py",
   "mimetype": "text/x-python",
   "name": "python",
   "nbconvert_exporter": "python",
   "pygments_lexer": "ipython3",
   "version": "3.7.12"
  }
 },
 "nbformat": 4,
 "nbformat_minor": 5
}
